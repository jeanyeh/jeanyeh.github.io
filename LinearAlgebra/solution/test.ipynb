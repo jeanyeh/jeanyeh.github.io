This is a math formula rendered in Jupyter Notebook:
    
$$(\\cos x + \\sin x)^2 = \\cos^2 x + \\sin^2 x + 2 \\sin x \\cos x$$
    
Also, test
    
    $e^x+\cos(\theta)$
