{
  "nbformat": 4,
  "nbformat_minor": 0,
  "metadata": {
    "colab": {
      "name": "20200915.ipynb",
      "provenance": [],
      "collapsed_sections": [
        "QOXtIcv0Fy0e",
        "vg3bT8eN7s1H",
        "TKne-7Muk5Bk",
        "dSF9yek5_N7v",
        "ebk73ThcADAe",
        "eoMg1JSiAYJt",
        "fu8maJ_dCFP3",
        "ghZCRiebIT0C"
      ],
      "include_colab_link": true
    },
    "kernelspec": {
      "name": "python3",
      "display_name": "Python 3"
    }
  },
  "cells": [
    {
      "cell_type": "markdown",
      "metadata": {
        "id": "view-in-github",
        "colab_type": "text"
      },
      "source": [
        "<a href=\"https://colab.research.google.com/github/jeanyeh/jeanyeh.github.io/blob/master/20200915.ipynb\" target=\"_parent\"><img src=\"https://colab.research.google.com/assets/colab-badge.svg\" alt=\"Open In Colab\"/></a>"
      ]
    },
    {
      "cell_type": "markdown",
      "metadata": {
        "id": "0VNyI_uZ5qcs",
        "colab_type": "text"
      },
      "source": [
        "# 串列"
      ]
    },
    {
      "cell_type": "code",
      "metadata": {
        "id": "Jmb5VvSBOvuq",
        "colab_type": "code",
        "colab": {
          "base_uri": "https://localhost:8080/",
          "height": 34
        },
        "outputId": "a21b0809-d11f-4146-84d9-5d7850f3ad83"
      },
      "source": [
        "x=[1,2,3,4,5]\n",
        "x"
      ],
      "execution_count": null,
      "outputs": [
        {
          "output_type": "execute_result",
          "data": {
            "text/plain": [
              "[1, 2, 3, 4, 5]"
            ]
          },
          "metadata": {
            "tags": []
          },
          "execution_count": 20
        }
      ]
    },
    {
      "cell_type": "code",
      "metadata": {
        "id": "lo9XSUXJU5c4",
        "colab_type": "code",
        "colab": {
          "base_uri": "https://localhost:8080/",
          "height": 34
        },
        "outputId": "61885366-8f59-41c4-c9d0-3e91c1e369b9"
      },
      "source": [
        "y=[2,3,4,5]\n",
        "y"
      ],
      "execution_count": null,
      "outputs": [
        {
          "output_type": "execute_result",
          "data": {
            "text/plain": [
              "[2, 3, 4, 5]"
            ]
          },
          "metadata": {
            "tags": []
          },
          "execution_count": 22
        }
      ]
    },
    {
      "cell_type": "markdown",
      "metadata": {
        "id": "uTs2D_Y1O2BG",
        "colab_type": "text"
      },
      "source": [
        "可以加數字進x中"
      ]
    },
    {
      "cell_type": "code",
      "metadata": {
        "id": "3FyNiaa6O0gg",
        "colab_type": "code",
        "colab": {
          "base_uri": "https://localhost:8080/",
          "height": 34
        },
        "outputId": "c0da2759-e799-41ec-9694-1a83653e038a"
      },
      "source": [
        "x.append(6)\n",
        "x"
      ],
      "execution_count": null,
      "outputs": [
        {
          "output_type": "execute_result",
          "data": {
            "text/plain": [
              "[1, 2, 3, 4, 5, 6]"
            ]
          },
          "metadata": {
            "tags": []
          },
          "execution_count": 7
        }
      ]
    },
    {
      "cell_type": "markdown",
      "metadata": {
        "id": "iTTkYu396UHD",
        "colab_type": "text"
      },
      "source": [
        "也可以從後面把數字拿掉"
      ]
    },
    {
      "cell_type": "code",
      "metadata": {
        "id": "9P67HG775yea",
        "colab_type": "code",
        "colab": {
          "base_uri": "https://localhost:8080/",
          "height": 50
        },
        "outputId": "1d36b222-a035-4dd4-efbc-ca42e5f6f9b4"
      },
      "source": [
        "a=x.pop()\n",
        "print(a)\n",
        "print(x)"
      ],
      "execution_count": null,
      "outputs": [
        {
          "output_type": "stream",
          "text": [
            "6\n",
            "[1, 2, 3, 4, 5]\n"
          ],
          "name": "stdout"
        }
      ]
    },
    {
      "cell_type": "markdown",
      "metadata": {
        "id": "D8o3bb4oPeuy",
        "colab_type": "text"
      },
      "source": [
        "index 從 0 開始"
      ]
    },
    {
      "cell_type": "code",
      "metadata": {
        "id": "LxOkZWl8Ps5C",
        "colab_type": "code",
        "colab": {
          "base_uri": "https://localhost:8080/",
          "height": 35
        },
        "outputId": "a58ba10d-1c0d-429d-edf7-3d311d60cae8"
      },
      "source": [
        "x[0] #x的第0個元素"
      ],
      "execution_count": null,
      "outputs": [
        {
          "output_type": "execute_result",
          "data": {
            "text/plain": [
              "1"
            ]
          },
          "metadata": {
            "tags": []
          },
          "execution_count": 24
        }
      ]
    },
    {
      "cell_type": "code",
      "metadata": {
        "id": "8iU2WDQIVjCR",
        "colab_type": "code",
        "colab": {
          "base_uri": "https://localhost:8080/",
          "height": 34
        },
        "outputId": "bde01958-19df-4a43-b34a-fd51b35f9ab2"
      },
      "source": [
        "x[4]"
      ],
      "execution_count": null,
      "outputs": [
        {
          "output_type": "execute_result",
          "data": {
            "text/plain": [
              "5"
            ]
          },
          "metadata": {
            "tags": []
          },
          "execution_count": 23
        }
      ]
    },
    {
      "cell_type": "code",
      "metadata": {
        "id": "xmOFDVMoV0Sg",
        "colab_type": "code",
        "colab": {
          "base_uri": "https://localhost:8080/",
          "height": 34
        },
        "outputId": "556f2900-7a0e-4e75-b516-8f13c624f06f"
      },
      "source": [
        "x[-1]  #x從右邊數來第1個"
      ],
      "execution_count": null,
      "outputs": [
        {
          "output_type": "execute_result",
          "data": {
            "text/plain": [
              "5"
            ]
          },
          "metadata": {
            "tags": []
          },
          "execution_count": 26
        }
      ]
    },
    {
      "cell_type": "code",
      "metadata": {
        "id": "Egh_ExUEWGRn",
        "colab_type": "code",
        "colab": {
          "base_uri": "https://localhost:8080/",
          "height": 34
        },
        "outputId": "467dc9e1-5364-4b86-cbfe-c031bc0e7eea"
      },
      "source": [
        "x[-2]"
      ],
      "execution_count": null,
      "outputs": [
        {
          "output_type": "execute_result",
          "data": {
            "text/plain": [
              "4"
            ]
          },
          "metadata": {
            "tags": []
          },
          "execution_count": 28
        }
      ]
    },
    {
      "cell_type": "code",
      "metadata": {
        "id": "9V_QSljZaxjI",
        "colab_type": "code",
        "colab": {
          "base_uri": "https://localhost:8080/",
          "height": 34
        },
        "outputId": "dba291bc-cf75-4a82-eed1-193f3917c788"
      },
      "source": [
        "x=[0,1,2,3,4,5,6,7,8,9,10]\n",
        "x[5:8]\n"
      ],
      "execution_count": null,
      "outputs": [
        {
          "output_type": "execute_result",
          "data": {
            "text/plain": [
              "[5, 6, 7]"
            ]
          },
          "metadata": {
            "tags": []
          },
          "execution_count": 30
        }
      ]
    },
    {
      "cell_type": "code",
      "metadata": {
        "id": "oT5JVhXgbkcA",
        "colab_type": "code",
        "colab": {
          "base_uri": "https://localhost:8080/",
          "height": 34
        },
        "outputId": "78aae0dd-d721-4599-828f-c8e99f6ea4cb"
      },
      "source": [
        "x[5:8]=[12,13,14]\n",
        "x"
      ],
      "execution_count": null,
      "outputs": [
        {
          "output_type": "execute_result",
          "data": {
            "text/plain": [
              "[0, 1, 2, 3, 4, 12, 13, 14, 8, 9, 10]"
            ]
          },
          "metadata": {
            "tags": []
          },
          "execution_count": 31
        }
      ]
    },
    {
      "cell_type": "markdown",
      "metadata": {
        "id": "RFC9kXkmNmVl",
        "colab_type": "text"
      },
      "source": [
        "---------------------------------------------------------------------\n",
        "## 匯入函式庫，使用數學函數"
      ]
    },
    {
      "cell_type": "markdown",
      "metadata": {
        "id": "kt6qR8jI7A3K",
        "colab_type": "text"
      },
      "source": [
        "1. 可以只匯入想要的函數"
      ]
    },
    {
      "cell_type": "code",
      "metadata": {
        "id": "4uWe8HhHXF75",
        "colab_type": "code",
        "colab": {
          "base_uri": "https://localhost:8080/",
          "height": 168
        },
        "outputId": "9cb4bb6c-13d9-48c4-dc26-3c5a625b8b02"
      },
      "source": [
        "pi"
      ],
      "execution_count": null,
      "outputs": [
        {
          "output_type": "error",
          "ename": "NameError",
          "evalue": "ignored",
          "traceback": [
            "\u001b[0;31m---------------------------------------------------------------------------\u001b[0m",
            "\u001b[0;31mNameError\u001b[0m                                 Traceback (most recent call last)",
            "\u001b[0;32m<ipython-input-32-f84ab820532c>\u001b[0m in \u001b[0;36m<module>\u001b[0;34m()\u001b[0m\n\u001b[0;32m----> 1\u001b[0;31m \u001b[0mpi\u001b[0m\u001b[0;34m\u001b[0m\u001b[0;34m\u001b[0m\u001b[0m\n\u001b[0m",
            "\u001b[0;31mNameError\u001b[0m: name 'pi' is not defined"
          ]
        }
      ]
    },
    {
      "cell_type": "code",
      "metadata": {
        "id": "Eih6xF1eHEZ9",
        "colab_type": "code",
        "colab": {
          "base_uri": "https://localhost:8080/",
          "height": 34
        },
        "outputId": "c79818fa-f310-4e57-c188-e1400a858586"
      },
      "source": [
        "from numpy import pi\n",
        "pi"
      ],
      "execution_count": null,
      "outputs": [
        {
          "output_type": "execute_result",
          "data": {
            "text/plain": [
              "3.141592653589793"
            ]
          },
          "metadata": {
            "tags": []
          },
          "execution_count": 33
        }
      ]
    },
    {
      "cell_type": "code",
      "metadata": {
        "id": "KIdtBpegHVKL",
        "colab_type": "code",
        "colab": {
          "base_uri": "https://localhost:8080/",
          "height": 34
        },
        "outputId": "76f9578f-e4e5-4783-f6cf-40762482910c"
      },
      "source": [
        "from numpy import sin\n",
        "sin(pi/4)"
      ],
      "execution_count": null,
      "outputs": [
        {
          "output_type": "execute_result",
          "data": {
            "text/plain": [
              "0.7071067811865475"
            ]
          },
          "metadata": {
            "tags": []
          },
          "execution_count": 34
        }
      ]
    },
    {
      "cell_type": "markdown",
      "metadata": {
        "id": "6Ul8JM1s7JfS",
        "colab_type": "text"
      },
      "source": [
        "2. 可以隨時引用整個函數庫"
      ]
    },
    {
      "cell_type": "code",
      "metadata": {
        "id": "2at8HJJaNGux",
        "colab_type": "code",
        "colab": {
          "base_uri": "https://localhost:8080/",
          "height": 34
        },
        "outputId": "b1cebd4d-d8f2-4126-b750-183fbf5d8a3a"
      },
      "source": [
        "import numpy as np\n",
        "np.sin(np.pi/4)"
      ],
      "execution_count": null,
      "outputs": [
        {
          "output_type": "execute_result",
          "data": {
            "text/plain": [
              "0.7071067811865475"
            ]
          },
          "metadata": {
            "tags": []
          },
          "execution_count": 35
        }
      ]
    },
    {
      "cell_type": "code",
      "metadata": {
        "id": "R8YYG2QcNdqi",
        "colab_type": "code",
        "colab": {
          "base_uri": "https://localhost:8080/",
          "height": 35
        },
        "outputId": "8cc90cb3-6629-488f-a86d-2390d5e2a4f8"
      },
      "source": [
        "np.log(3)"
      ],
      "execution_count": null,
      "outputs": [
        {
          "output_type": "execute_result",
          "data": {
            "text/plain": [
              "1.0986122886681098"
            ]
          },
          "metadata": {
            "tags": []
          },
          "execution_count": 8
        }
      ]
    },
    {
      "cell_type": "markdown",
      "metadata": {
        "id": "nDx77JXIIQnV",
        "colab_type": "text"
      },
      "source": [
        "3. 或者是直接匯入整個函式庫，**不建議使用!!**"
      ]
    },
    {
      "cell_type": "code",
      "metadata": {
        "id": "kDXt4jLRHd6i",
        "colab_type": "code",
        "colab": {
          "base_uri": "https://localhost:8080/",
          "height": 168
        },
        "outputId": "006bf597-5f55-4362-82f2-c2623ad1278e"
      },
      "source": [
        "cos(pi/2)"
      ],
      "execution_count": null,
      "outputs": [
        {
          "output_type": "error",
          "ename": "NameError",
          "evalue": "ignored",
          "traceback": [
            "\u001b[0;31m---------------------------------------------------------------------------\u001b[0m",
            "\u001b[0;31mNameError\u001b[0m                                 Traceback (most recent call last)",
            "\u001b[0;32m<ipython-input-36-2254751405cb>\u001b[0m in \u001b[0;36m<module>\u001b[0;34m()\u001b[0m\n\u001b[0;32m----> 1\u001b[0;31m \u001b[0mcos\u001b[0m\u001b[0;34m(\u001b[0m\u001b[0mpi\u001b[0m\u001b[0;34m/\u001b[0m\u001b[0;36m2\u001b[0m\u001b[0;34m)\u001b[0m\u001b[0;34m\u001b[0m\u001b[0;34m\u001b[0m\u001b[0m\n\u001b[0m",
            "\u001b[0;31mNameError\u001b[0m: name 'cos' is not defined"
          ]
        }
      ]
    },
    {
      "cell_type": "code",
      "metadata": {
        "id": "eXzO-UdvX_Q6",
        "colab_type": "code",
        "colab": {
          "base_uri": "https://localhost:8080/",
          "height": 34
        },
        "outputId": "23dd01d1-6a14-41ab-e3cc-ed78ba1a08f7"
      },
      "source": [
        "np.cos(pi/2)"
      ],
      "execution_count": null,
      "outputs": [
        {
          "output_type": "execute_result",
          "data": {
            "text/plain": [
              "6.123233995736766e-17"
            ]
          },
          "metadata": {
            "tags": []
          },
          "execution_count": 37
        }
      ]
    },
    {
      "cell_type": "code",
      "metadata": {
        "id": "Qi_3r81eHkbM",
        "colab_type": "code",
        "colab": {
          "base_uri": "https://localhost:8080/",
          "height": 34
        },
        "outputId": "898c80b0-d610-471c-ae13-2d2c31589873"
      },
      "source": [
        "from numpy import *\n",
        "cos(pi/2)"
      ],
      "execution_count": null,
      "outputs": [
        {
          "output_type": "execute_result",
          "data": {
            "text/plain": [
              "6.123233995736766e-17"
            ]
          },
          "metadata": {
            "tags": []
          },
          "execution_count": 38
        }
      ]
    },
    {
      "cell_type": "markdown",
      "metadata": {
        "id": "cp8-3rFx7nxt",
        "colab_type": "text"
      },
      "source": [
        "# 陣列\n",
        "\n",
        "常用的\n",
        "1. arange\n",
        "2. linspace"
      ]
    },
    {
      "cell_type": "code",
      "metadata": {
        "id": "Fi3vWGE_cMGA",
        "colab_type": "code",
        "colab": {
          "base_uri": "https://localhost:8080/",
          "height": 35
        },
        "outputId": "98f56ac1-5f89-423f-af0e-79015a1a0b2b"
      },
      "source": [
        "import numpy as np #給個縮寫\n",
        "arr=np.arange(10)  #一維10個數的陣列\n",
        "arr"
      ],
      "execution_count": null,
      "outputs": [
        {
          "output_type": "execute_result",
          "data": {
            "text/plain": [
              "array([0, 1, 2, 3, 4, 5, 6, 7, 8, 9])"
            ]
          },
          "metadata": {
            "tags": []
          },
          "execution_count": 21
        }
      ]
    },
    {
      "cell_type": "code",
      "metadata": {
        "id": "yRI1B2yIZEPj",
        "colab_type": "code",
        "colab": {
          "base_uri": "https://localhost:8080/",
          "height": 34
        },
        "outputId": "1fc772d5-4693-4a0c-ad27-bbc4a915ffa8"
      },
      "source": [
        "np.arange(1,8,2)  #從1開始，比8小，間隔2  "
      ],
      "execution_count": null,
      "outputs": [
        {
          "output_type": "execute_result",
          "data": {
            "text/plain": [
              "array([1, 3, 5, 7])"
            ]
          },
          "metadata": {
            "tags": []
          },
          "execution_count": 40
        }
      ]
    },
    {
      "cell_type": "code",
      "metadata": {
        "id": "jfOVz2uzYoEG",
        "colab_type": "code",
        "colab": {
          "base_uri": "https://localhost:8080/",
          "height": 34
        },
        "outputId": "452367b3-d3e6-4c8d-e22f-0dc0700ab121"
      },
      "source": [
        "linspace(3,20,6)  #從3開始，到20，均勻分成6個數"
      ],
      "execution_count": null,
      "outputs": [
        {
          "output_type": "execute_result",
          "data": {
            "text/plain": [
              "array([ 3. ,  6.4,  9.8, 13.2, 16.6, 20. ])"
            ]
          },
          "metadata": {
            "tags": []
          },
          "execution_count": 42
        }
      ]
    },
    {
      "cell_type": "code",
      "metadata": {
        "id": "Mh1t4Vl92EKx",
        "colab_type": "code",
        "colab": {
          "base_uri": "https://localhost:8080/",
          "height": 34
        },
        "outputId": "9611746b-e299-4fb5-fa28-b06237f331fb"
      },
      "source": [
        "arr1d=np.array([1,20,300])\n",
        "arr1d"
      ],
      "execution_count": null,
      "outputs": [
        {
          "output_type": "execute_result",
          "data": {
            "text/plain": [
              "array([  1,  20, 300])"
            ]
          },
          "metadata": {
            "tags": []
          },
          "execution_count": 43
        }
      ]
    },
    {
      "cell_type": "code",
      "metadata": {
        "id": "3k6MhMtdaDow",
        "colab_type": "code",
        "colab": {
          "base_uri": "https://localhost:8080/",
          "height": 34
        },
        "outputId": "9af03699-3a54-436f-abff-46825d09d951"
      },
      "source": [
        "arr1d[1]"
      ],
      "execution_count": null,
      "outputs": [
        {
          "output_type": "execute_result",
          "data": {
            "text/plain": [
              "20"
            ]
          },
          "metadata": {
            "tags": []
          },
          "execution_count": 44
        }
      ]
    },
    {
      "cell_type": "code",
      "metadata": {
        "id": "ZvsLwzijdMui",
        "colab_type": "code",
        "colab": {
          "base_uri": "https://localhost:8080/",
          "height": 70
        },
        "outputId": "85ad4a6f-0eeb-4c3e-ac78-dea199d7bd21"
      },
      "source": [
        "arr2d=np.array([[1,2,3],[4,5,6],[7,8,9]]) #二維陣列\n",
        "print(arr2d)"
      ],
      "execution_count": null,
      "outputs": [
        {
          "output_type": "stream",
          "text": [
            "[[1 2 3]\n",
            " [4 5 6]\n",
            " [7 8 9]]\n"
          ],
          "name": "stdout"
        }
      ]
    },
    {
      "cell_type": "code",
      "metadata": {
        "id": "0QYjVwoBfeuW",
        "colab_type": "code",
        "colab": {
          "base_uri": "https://localhost:8080/",
          "height": 34
        },
        "outputId": "2cbffc33-4544-47cc-b82f-a15ae6d5924c"
      },
      "source": [
        "arr2d[0]"
      ],
      "execution_count": null,
      "outputs": [
        {
          "output_type": "execute_result",
          "data": {
            "text/plain": [
              "array([1, 2, 3])"
            ]
          },
          "metadata": {
            "tags": []
          },
          "execution_count": 47
        }
      ]
    },
    {
      "cell_type": "code",
      "metadata": {
        "id": "1oh9wgGXfg5s",
        "colab_type": "code",
        "colab": {
          "base_uri": "https://localhost:8080/",
          "height": 35
        },
        "outputId": "47a6fce5-ff7b-4eea-e6a5-adcb37745fbc"
      },
      "source": [
        "arr2d[0][2]"
      ],
      "execution_count": null,
      "outputs": [
        {
          "output_type": "execute_result",
          "data": {
            "text/plain": [
              "3"
            ]
          },
          "metadata": {
            "tags": []
          },
          "execution_count": 46
        }
      ]
    },
    {
      "cell_type": "code",
      "metadata": {
        "id": "nfdLA6LAgRyb",
        "colab_type": "code",
        "colab": {
          "base_uri": "https://localhost:8080/",
          "height": 35
        },
        "outputId": "94cc8391-1c9a-4a9a-e223-bc812482ce3c"
      },
      "source": [
        "arr2d[0,2]"
      ],
      "execution_count": null,
      "outputs": [
        {
          "output_type": "execute_result",
          "data": {
            "text/plain": [
              "3"
            ]
          },
          "metadata": {
            "tags": []
          },
          "execution_count": 45
        }
      ]
    },
    {
      "cell_type": "code",
      "metadata": {
        "id": "G45lseE3d6Aq",
        "colab_type": "code",
        "colab": {
          "base_uri": "https://localhost:8080/",
          "height": 105
        },
        "outputId": "18a72277-3c07-460f-caf2-6f25dcbcab86"
      },
      "source": [
        "arr3d=np.array([[[1,2,3],[4,5,6]], [[7,8,9],[10,11,12]]]) #三維陣列\n",
        "print(arr3d)"
      ],
      "execution_count": null,
      "outputs": [
        {
          "output_type": "stream",
          "text": [
            "[[[ 1  2  3]\n",
            "  [ 4  5  6]]\n",
            "\n",
            " [[ 7  8  9]\n",
            "  [10 11 12]]]\n"
          ],
          "name": "stdout"
        }
      ]
    },
    {
      "cell_type": "code",
      "metadata": {
        "id": "0c90hv0XeW_Y",
        "colab_type": "code",
        "colab": {
          "base_uri": "https://localhost:8080/",
          "height": 54
        },
        "outputId": "659945ea-e2cd-40e6-a657-823cc00b7b9e"
      },
      "source": [
        "print(arr3d[0])"
      ],
      "execution_count": null,
      "outputs": [
        {
          "output_type": "stream",
          "text": [
            "[[1 2 3]\n",
            " [4 5 6]]\n"
          ],
          "name": "stdout"
        }
      ]
    },
    {
      "cell_type": "code",
      "metadata": {
        "id": "_SJmXFTBeT_x",
        "colab_type": "code",
        "colab": {
          "base_uri": "https://localhost:8080/",
          "height": 35
        },
        "outputId": "3655830f-6e75-4e99-a119-f8f46d6b7672"
      },
      "source": [
        "print(arr3d[0][1])"
      ],
      "execution_count": null,
      "outputs": [
        {
          "output_type": "stream",
          "text": [
            "[4 5 6]\n"
          ],
          "name": "stdout"
        }
      ]
    },
    {
      "cell_type": "code",
      "metadata": {
        "id": "UEkYMJ9AejYF",
        "colab_type": "code",
        "colab": {
          "base_uri": "https://localhost:8080/",
          "height": 35
        },
        "outputId": "dc195d36-f4e8-42fb-9ee2-612db192314c"
      },
      "source": [
        "print(arr3d[0][1][0])"
      ],
      "execution_count": null,
      "outputs": [
        {
          "output_type": "stream",
          "text": [
            "4\n"
          ],
          "name": "stdout"
        }
      ]
    },
    {
      "cell_type": "markdown",
      "metadata": {
        "id": "czprkQ6ffkWi",
        "colab_type": "text"
      },
      "source": [
        "## 切片索引"
      ]
    },
    {
      "cell_type": "code",
      "metadata": {
        "colab_type": "code",
        "id": "nXwMxP0l8Rh8",
        "colab": {
          "base_uri": "https://localhost:8080/",
          "height": 34
        },
        "outputId": "fce78075-9958-48c4-8080-595f5920185d"
      },
      "source": [
        "import numpy as np #給個縮寫\n",
        "arr=np.arange(10)  #一維10個數的陣列\n",
        "arr"
      ],
      "execution_count": null,
      "outputs": [
        {
          "output_type": "execute_result",
          "data": {
            "text/plain": [
              "array([0, 1, 2, 3, 4, 5, 6, 7, 8, 9])"
            ]
          },
          "metadata": {
            "tags": []
          },
          "execution_count": 14
        }
      ]
    },
    {
      "cell_type": "code",
      "metadata": {
        "id": "Pm5rr_neeuRz",
        "colab_type": "code",
        "colab": {
          "base_uri": "https://localhost:8080/",
          "height": 34
        },
        "outputId": "c347306b-98d0-4ee3-9625-b6fc82b3efc1"
      },
      "source": [
        "arr[5:8]"
      ],
      "execution_count": null,
      "outputs": [
        {
          "output_type": "execute_result",
          "data": {
            "text/plain": [
              "array([5, 6, 7])"
            ]
          },
          "metadata": {
            "tags": []
          },
          "execution_count": 15
        }
      ]
    },
    {
      "cell_type": "code",
      "metadata": {
        "id": "Pg77fYEM8Sqm",
        "colab_type": "code",
        "colab": {
          "base_uri": "https://localhost:8080/",
          "height": 34
        },
        "outputId": "11b014e2-4a17-4a3c-a0bc-827d52cc5c15"
      },
      "source": [
        "arr[1:7:2]  #index從1開始，小於7，間隔2"
      ],
      "execution_count": null,
      "outputs": [
        {
          "output_type": "execute_result",
          "data": {
            "text/plain": [
              "array([1, 3, 5])"
            ]
          },
          "metadata": {
            "tags": []
          },
          "execution_count": 50
        }
      ]
    },
    {
      "cell_type": "code",
      "metadata": {
        "id": "F9tG3XaR8dvz",
        "colab_type": "code",
        "colab": {
          "base_uri": "https://localhost:8080/",
          "height": 34
        },
        "outputId": "9edf2b94-73ef-42cf-fc30-d674b22871a9"
      },
      "source": [
        "arr[::2] #預設是從頭到尾，間隔1。不填就是預設"
      ],
      "execution_count": null,
      "outputs": [
        {
          "output_type": "execute_result",
          "data": {
            "text/plain": [
              "array([0, 2, 4, 6, 8])"
            ]
          },
          "metadata": {
            "tags": []
          },
          "execution_count": 17
        }
      ]
    },
    {
      "cell_type": "code",
      "metadata": {
        "id": "hjr9vz_ffo3k",
        "colab_type": "code",
        "colab": {
          "base_uri": "https://localhost:8080/",
          "height": 72
        },
        "outputId": "92bbf1e0-71a9-477d-a3f0-6dff9aa28ea3"
      },
      "source": [
        "arr2d"
      ],
      "execution_count": null,
      "outputs": [
        {
          "output_type": "execute_result",
          "data": {
            "text/plain": [
              "array([[1, 2, 3],\n",
              "       [4, 5, 6],\n",
              "       [7, 8, 9]])"
            ]
          },
          "metadata": {
            "tags": []
          },
          "execution_count": 38
        }
      ]
    },
    {
      "cell_type": "code",
      "metadata": {
        "id": "pnHfTPQmfyFN",
        "colab_type": "code",
        "colab": {
          "base_uri": "https://localhost:8080/",
          "height": 52
        },
        "outputId": "0ad1b9b0-4876-410c-a712-1d280cc668f0"
      },
      "source": [
        "arr2d[:2] #從頭開始，到小於2，間隔1"
      ],
      "execution_count": null,
      "outputs": [
        {
          "output_type": "execute_result",
          "data": {
            "text/plain": [
              "array([[1, 2, 3],\n",
              "       [4, 5, 6]])"
            ]
          },
          "metadata": {
            "tags": []
          },
          "execution_count": 51
        }
      ]
    },
    {
      "cell_type": "code",
      "metadata": {
        "id": "_l1L3R-Gf6XD",
        "colab_type": "code",
        "colab": {
          "base_uri": "https://localhost:8080/",
          "height": 54
        },
        "outputId": "dd548f07-78e2-4258-cd1c-c087f8f2c86a"
      },
      "source": [
        "arr2d[:2,:1]"
      ],
      "execution_count": null,
      "outputs": [
        {
          "output_type": "execute_result",
          "data": {
            "text/plain": [
              "array([[1],\n",
              "       [4]])"
            ]
          },
          "metadata": {
            "tags": []
          },
          "execution_count": 41
        }
      ]
    },
    {
      "cell_type": "code",
      "metadata": {
        "id": "rxEvCs2CgDZQ",
        "colab_type": "code",
        "colab": {
          "base_uri": "https://localhost:8080/",
          "height": 54
        },
        "outputId": "fd96be08-1169-42aa-fbcf-b6dc6965a242"
      },
      "source": [
        "arr2d[:2,1:]"
      ],
      "execution_count": null,
      "outputs": [
        {
          "output_type": "execute_result",
          "data": {
            "text/plain": [
              "array([[2, 3],\n",
              "       [5, 6]])"
            ]
          },
          "metadata": {
            "tags": []
          },
          "execution_count": 42
        }
      ]
    },
    {
      "cell_type": "code",
      "metadata": {
        "id": "BjxQc6ubgH0y",
        "colab_type": "code",
        "colab": {
          "base_uri": "https://localhost:8080/",
          "height": 35
        },
        "outputId": "10fc1013-72e2-4506-922a-dbc2e33323a5"
      },
      "source": [
        "arr2d[2,1]"
      ],
      "execution_count": null,
      "outputs": [
        {
          "output_type": "execute_result",
          "data": {
            "text/plain": [
              "8"
            ]
          },
          "metadata": {
            "tags": []
          },
          "execution_count": 44
        }
      ]
    },
    {
      "cell_type": "code",
      "metadata": {
        "id": "G_BMx_21pY6m",
        "colab_type": "code",
        "colab": {
          "base_uri": "https://localhost:8080/",
          "height": 35
        },
        "outputId": "469d9d4e-3ef1-490d-e782-29d996bce9ca"
      },
      "source": [
        "arr2d[:,1]"
      ],
      "execution_count": null,
      "outputs": [
        {
          "output_type": "execute_result",
          "data": {
            "text/plain": [
              "array([2, 5, 8])"
            ]
          },
          "metadata": {
            "tags": []
          },
          "execution_count": 52
        }
      ]
    },
    {
      "cell_type": "code",
      "metadata": {
        "id": "3dqRZHrjpIbl",
        "colab_type": "code",
        "colab": {
          "base_uri": "https://localhost:8080/",
          "height": 72
        },
        "outputId": "e0ddd71b-13fe-4157-bf79-3165201bb828"
      },
      "source": [
        "arr2d[:,1:2]"
      ],
      "execution_count": null,
      "outputs": [
        {
          "output_type": "execute_result",
          "data": {
            "text/plain": [
              "array([[2],\n",
              "       [5],\n",
              "       [8]])"
            ]
          },
          "metadata": {
            "tags": []
          },
          "execution_count": 51
        }
      ]
    },
    {
      "cell_type": "code",
      "metadata": {
        "id": "_Rr-JTAMesq-",
        "colab_type": "code",
        "colab": {
          "base_uri": "https://localhost:8080/",
          "height": 52
        },
        "outputId": "3f29ffc0-1548-446b-c007-aa8dfd7967fa"
      },
      "source": [
        "x=[0,1,2,3,4,5,6]\n",
        "print(x[1])  #結果是元素\n",
        "print(x[1:2]) #結果陣列"
      ],
      "execution_count": null,
      "outputs": [
        {
          "output_type": "stream",
          "text": [
            "1\n",
            "[1]\n"
          ],
          "name": "stdout"
        }
      ]
    },
    {
      "cell_type": "code",
      "metadata": {
        "id": "6upX2Rvbp9Ee",
        "colab_type": "code",
        "colab": {
          "base_uri": "https://localhost:8080/",
          "height": 35
        },
        "outputId": "7415fe34-d404-4564-f4b7-f3bb05003345"
      },
      "source": [
        "arr2d[1,:]"
      ],
      "execution_count": null,
      "outputs": [
        {
          "output_type": "execute_result",
          "data": {
            "text/plain": [
              "array([4, 5, 6])"
            ]
          },
          "metadata": {
            "tags": []
          },
          "execution_count": 53
        }
      ]
    },
    {
      "cell_type": "code",
      "metadata": {
        "id": "_8t0kKWkfBpU",
        "colab_type": "code",
        "colab": {
          "base_uri": "https://localhost:8080/",
          "height": 34
        },
        "outputId": "80962c52-287d-4bc1-f2bf-656b9dd0df82"
      },
      "source": [
        "arr2d[1]"
      ],
      "execution_count": null,
      "outputs": [
        {
          "output_type": "execute_result",
          "data": {
            "text/plain": [
              "array([4, 5, 6])"
            ]
          },
          "metadata": {
            "tags": []
          },
          "execution_count": 54
        }
      ]
    },
    {
      "cell_type": "markdown",
      "metadata": {
        "id": "f6kpWP5VfJ-b",
        "colab_type": "text"
      },
      "source": [
        "## 排"
      ]
    },
    {
      "cell_type": "code",
      "metadata": {
        "id": "iX0UnRkJzySq",
        "colab_type": "code",
        "colab": {
          "base_uri": "https://localhost:8080/",
          "height": 158
        },
        "outputId": "33e1e49d-4882-489d-c70a-dc53060fda7f"
      },
      "source": [
        "from numpy import *  \n",
        "a = arange(9).reshape(3,3)  #改變形狀成為3*3\n",
        "b = a * 2\n",
        "print(\"a = \\n\",a,\"\\nb = \\n\",b)  # \\n 表示換行, 不同變數用逗號分開"
      ],
      "execution_count": null,
      "outputs": [
        {
          "output_type": "stream",
          "text": [
            "a = \n",
            " [[0 1 2]\n",
            " [3 4 5]\n",
            " [6 7 8]] \n",
            "b = \n",
            " [[ 0  2  4]\n",
            " [ 6  8 10]\n",
            " [12 14 16]]\n"
          ],
          "name": "stdout"
        }
      ]
    },
    {
      "cell_type": "code",
      "metadata": {
        "id": "aqodAhEW0aUO",
        "colab_type": "code",
        "colab": {
          "base_uri": "https://localhost:8080/",
          "height": 72
        },
        "outputId": "73e4b5cb-b228-4f38-8cbd-61ad757e4da2"
      },
      "source": [
        "hstack((a,b))"
      ],
      "execution_count": null,
      "outputs": [
        {
          "output_type": "execute_result",
          "data": {
            "text/plain": [
              "array([[ 0,  1,  2,  0,  2,  4],\n",
              "       [ 3,  4,  5,  6,  8, 10],\n",
              "       [ 6,  7,  8, 12, 14, 16]])"
            ]
          },
          "metadata": {
            "tags": []
          },
          "execution_count": 66
        }
      ]
    },
    {
      "cell_type": "code",
      "metadata": {
        "id": "46WXksmk0wcY",
        "colab_type": "code",
        "colab": {
          "base_uri": "https://localhost:8080/",
          "height": 126
        },
        "outputId": "222102c7-4856-49cc-e91a-879cd9a517bd"
      },
      "source": [
        "vstack((a,b))"
      ],
      "execution_count": null,
      "outputs": [
        {
          "output_type": "execute_result",
          "data": {
            "text/plain": [
              "array([[ 0,  1,  2],\n",
              "       [ 3,  4,  5],\n",
              "       [ 6,  7,  8],\n",
              "       [ 0,  2,  4],\n",
              "       [ 6,  8, 10],\n",
              "       [12, 14, 16]])"
            ]
          },
          "metadata": {
            "tags": []
          },
          "execution_count": 70
        }
      ]
    },
    {
      "cell_type": "code",
      "metadata": {
        "id": "y_oV45531Ci9",
        "colab_type": "code",
        "colab": {
          "base_uri": "https://localhost:8080/",
          "height": 35
        },
        "outputId": "af3759aa-f112-4029-c0c0-2fe962ebbdc0"
      },
      "source": [
        "a.size  #有幾個元素"
      ],
      "execution_count": null,
      "outputs": [
        {
          "output_type": "execute_result",
          "data": {
            "text/plain": [
              "9"
            ]
          },
          "metadata": {
            "tags": []
          },
          "execution_count": 73
        }
      ]
    },
    {
      "cell_type": "code",
      "metadata": {
        "id": "dO7lCOsC1Fts",
        "colab_type": "code",
        "colab": {
          "base_uri": "https://localhost:8080/",
          "height": 35
        },
        "outputId": "8ea64fdf-6c7c-4fa8-a6bd-2b8af9fba25e"
      },
      "source": [
        "a.ndim #幾維"
      ],
      "execution_count": null,
      "outputs": [
        {
          "output_type": "execute_result",
          "data": {
            "text/plain": [
              "2"
            ]
          },
          "metadata": {
            "tags": []
          },
          "execution_count": 75
        }
      ]
    },
    {
      "cell_type": "code",
      "metadata": {
        "id": "jZBvXJFh1KTD",
        "colab_type": "code",
        "colab": {
          "base_uri": "https://localhost:8080/",
          "height": 35
        },
        "outputId": "efa5d674-38c1-4830-aa45-6b5fb4c7892a"
      },
      "source": [
        "arr3d.ndim"
      ],
      "execution_count": null,
      "outputs": [
        {
          "output_type": "execute_result",
          "data": {
            "text/plain": [
              "3"
            ]
          },
          "metadata": {
            "tags": []
          },
          "execution_count": 76
        }
      ]
    },
    {
      "cell_type": "markdown",
      "metadata": {
        "id": "Mzb7nAI1qY1i",
        "colab_type": "text"
      },
      "source": [
        "# 矩陣"
      ]
    },
    {
      "cell_type": "code",
      "metadata": {
        "id": "u2cdNu3GZYb5",
        "colab_type": "code",
        "colab": {
          "base_uri": "https://localhost:8080/",
          "height": 35
        },
        "outputId": "2478c3ce-79c1-47d2-838e-80f6c171e074"
      },
      "source": [
        "mat('1 2 3')"
      ],
      "execution_count": null,
      "outputs": [
        {
          "output_type": "execute_result",
          "data": {
            "text/plain": [
              "matrix([[1, 2, 3]])"
            ]
          },
          "metadata": {
            "tags": []
          },
          "execution_count": 168
        }
      ]
    },
    {
      "cell_type": "code",
      "metadata": {
        "id": "Frj8DYRWZbw7",
        "colab_type": "code",
        "colab": {
          "base_uri": "https://localhost:8080/",
          "height": 72
        },
        "outputId": "ed82fc39-0394-4b12-a614-645afda79a8f"
      },
      "source": [
        "mat('1;2;3')"
      ],
      "execution_count": null,
      "outputs": [
        {
          "output_type": "execute_result",
          "data": {
            "text/plain": [
              "matrix([[1],\n",
              "        [2],\n",
              "        [3]])"
            ]
          },
          "metadata": {
            "tags": []
          },
          "execution_count": 169
        }
      ]
    },
    {
      "cell_type": "code",
      "metadata": {
        "id": "z4wcrcHK2Yg3",
        "colab_type": "code",
        "colab": {
          "base_uri": "https://localhost:8080/",
          "height": 87
        },
        "outputId": "134f9534-cbd7-4857-a976-27b975d7986f"
      },
      "source": [
        "from numpy import *\n",
        "A = mat('1 2 3; 4 5 6; 7 8 10')\n",
        "print(\"Creating from string: \\n\", A)"
      ],
      "execution_count": null,
      "outputs": [
        {
          "output_type": "stream",
          "text": [
            "Creating from string: \n",
            " [[ 1  2  3]\n",
            " [ 4  5  6]\n",
            " [ 7  8 10]]\n"
          ],
          "name": "stdout"
        }
      ]
    },
    {
      "cell_type": "code",
      "metadata": {
        "id": "okPaFrhwqie_",
        "colab_type": "code",
        "colab": {
          "base_uri": "https://localhost:8080/",
          "height": 72
        },
        "outputId": "1098bd21-867f-4b5e-fbdf-3a14d35317ef"
      },
      "source": [
        "A.T #轉置矩陣"
      ],
      "execution_count": null,
      "outputs": [
        {
          "output_type": "execute_result",
          "data": {
            "text/plain": [
              "matrix([[ 1,  4,  7],\n",
              "        [ 2,  5,  8],\n",
              "        [ 3,  6, 10]])"
            ]
          },
          "metadata": {
            "tags": []
          },
          "execution_count": 98
        }
      ]
    },
    {
      "cell_type": "code",
      "metadata": {
        "id": "4blxw1m63Nzv",
        "colab_type": "code",
        "colab": {
          "base_uri": "https://localhost:8080/",
          "height": 70
        },
        "outputId": "d5c3579f-9b12-4496-bd8e-8a3529ede2e3"
      },
      "source": [
        "A.I #反矩陣"
      ],
      "execution_count": null,
      "outputs": [
        {
          "output_type": "execute_result",
          "data": {
            "text/plain": [
              "matrix([[-0.66666667, -1.33333333,  1.        ],\n",
              "        [-0.66666667,  3.66666667, -2.        ],\n",
              "        [ 1.        , -2.        ,  1.        ]])"
            ]
          },
          "metadata": {
            "tags": []
          },
          "execution_count": 59
        }
      ]
    },
    {
      "cell_type": "code",
      "metadata": {
        "id": "J4lwG0G51Us8",
        "colab_type": "code",
        "colab": {
          "base_uri": "https://localhost:8080/",
          "height": 90
        },
        "outputId": "132e9bf7-1c53-4f49-b943-95382e1024ec"
      },
      "source": [
        "np.eye(4)"
      ],
      "execution_count": null,
      "outputs": [
        {
          "output_type": "execute_result",
          "data": {
            "text/plain": [
              "array([[1., 0., 0., 0.],\n",
              "       [0., 1., 0., 0.],\n",
              "       [0., 0., 1., 0.],\n",
              "       [0., 0., 0., 1.]])"
            ]
          },
          "metadata": {
            "tags": []
          },
          "execution_count": 77
        }
      ]
    },
    {
      "cell_type": "code",
      "metadata": {
        "id": "8V586BQr1X48",
        "colab_type": "code",
        "colab": {
          "base_uri": "https://localhost:8080/",
          "height": 35
        },
        "outputId": "ac3bbfef-587d-4ff3-f7a3-b2f0f3f84553"
      },
      "source": [
        "np.zeros(4)"
      ],
      "execution_count": null,
      "outputs": [
        {
          "output_type": "execute_result",
          "data": {
            "text/plain": [
              "array([0., 0., 0., 0.])"
            ]
          },
          "metadata": {
            "tags": []
          },
          "execution_count": 78
        }
      ]
    },
    {
      "cell_type": "code",
      "metadata": {
        "id": "xjzCpWOx1bm_",
        "colab_type": "code",
        "colab": {
          "base_uri": "https://localhost:8080/",
          "height": 90
        },
        "outputId": "e6e28c95-37a9-499e-c3f8-df5e43a58f55"
      },
      "source": [
        "np.zeros((4,4))"
      ],
      "execution_count": null,
      "outputs": [
        {
          "output_type": "execute_result",
          "data": {
            "text/plain": [
              "array([[0., 0., 0., 0.],\n",
              "       [0., 0., 0., 0.],\n",
              "       [0., 0., 0., 0.],\n",
              "       [0., 0., 0., 0.]])"
            ]
          },
          "metadata": {
            "tags": []
          },
          "execution_count": 81
        }
      ]
    },
    {
      "cell_type": "code",
      "metadata": {
        "id": "RwvtMrlQ10yp",
        "colab_type": "code",
        "colab": {
          "base_uri": "https://localhost:8080/",
          "height": 35
        },
        "outputId": "3decee1a-1bac-47c5-96f2-ec16527509dd"
      },
      "source": [
        "np.ones(3)"
      ],
      "execution_count": null,
      "outputs": [
        {
          "output_type": "execute_result",
          "data": {
            "text/plain": [
              "array([1., 1., 1.])"
            ]
          },
          "metadata": {
            "tags": []
          },
          "execution_count": 82
        }
      ]
    },
    {
      "cell_type": "code",
      "metadata": {
        "id": "rKuClLIg14VE",
        "colab_type": "code",
        "colab": {
          "base_uri": "https://localhost:8080/",
          "height": 72
        },
        "outputId": "d8c8d640-9018-4339-8d85-ade396b34ac4"
      },
      "source": [
        "np.ones((3,3))"
      ],
      "execution_count": null,
      "outputs": [
        {
          "output_type": "execute_result",
          "data": {
            "text/plain": [
              "array([[1., 1., 1.],\n",
              "       [1., 1., 1.],\n",
              "       [1., 1., 1.]])"
            ]
          },
          "metadata": {
            "tags": []
          },
          "execution_count": 83
        }
      ]
    },
    {
      "cell_type": "code",
      "metadata": {
        "id": "9ANdB-Ty4d5w",
        "colab_type": "code",
        "colab": {
          "base_uri": "https://localhost:8080/",
          "height": 210
        },
        "outputId": "852a9d25-89e3-4485-def0-b0a1b6a5caa6"
      },
      "source": [
        "import numpy as np\n",
        "A = np.eye(2)\n",
        "print(\"A=\\n\",A)\n",
        "B = 2 * A\n",
        "print(\"B\\n\", B)\n",
        "C=3 * A\n",
        "D=np.bmat(\"A B; C B\") #合併成新矩陣\n",
        "print(\"D=\\n\",D)"
      ],
      "execution_count": null,
      "outputs": [
        {
          "output_type": "stream",
          "text": [
            "A=\n",
            " [[1. 0.]\n",
            " [0. 1.]]\n",
            "B\n",
            " [[2. 0.]\n",
            " [0. 2.]]\n",
            "D=\n",
            " [[1. 0. 2. 0.]\n",
            " [0. 1. 0. 2.]\n",
            " [3. 0. 2. 0.]\n",
            " [0. 3. 0. 2.]]\n"
          ],
          "name": "stdout"
        }
      ]
    },
    {
      "cell_type": "code",
      "metadata": {
        "id": "2HJ1r3o1ZO_C",
        "colab_type": "code",
        "colab": {
          "base_uri": "https://localhost:8080/",
          "height": 235
        },
        "outputId": "b8475072-1460-4fc3-cd74-195e772d1a53"
      },
      "source": [
        "A=mat('1 2 3; 4 5 6;7 8 9')\n",
        "b=mat('3;5;1')\n",
        "print('A\\n{},\\nb=\\n{},'.format(A,b))\n",
        "print('A*b=\\n{}'.format(A*b))"
      ],
      "execution_count": null,
      "outputs": [
        {
          "output_type": "stream",
          "text": [
            "A\n",
            "[[1 2 3]\n",
            " [4 5 6]\n",
            " [7 8 9]],\n",
            "b=\n",
            "[[3]\n",
            " [5]\n",
            " [1]],\n",
            "A*b=\n",
            "[[16]\n",
            " [43]\n",
            " [70]]\n"
          ],
          "name": "stdout"
        }
      ]
    },
    {
      "cell_type": "code",
      "metadata": {
        "id": "z2zxAzY3aJ4l",
        "colab_type": "code",
        "colab": {
          "base_uri": "https://localhost:8080/",
          "height": 468
        },
        "outputId": "fd08761b-387c-4d43-83c7-74916033b8e5"
      },
      "source": [
        "A=mat('1 2 3; 4 5 6;7 8 9')\n",
        "c=mat('3 5 1')\n",
        "print('A\\n{},\\nc=\\n{},'.format(A,c))\n",
        "print('A*c=\\n{}'.format(A*c))"
      ],
      "execution_count": null,
      "outputs": [
        {
          "output_type": "stream",
          "text": [
            "A\n",
            "[[1 2 3]\n",
            " [4 5 6]\n",
            " [7 8 9]],\n",
            "c=\n",
            "[[3 5 1]],\n"
          ],
          "name": "stdout"
        },
        {
          "output_type": "error",
          "ename": "ValueError",
          "evalue": "ignored",
          "traceback": [
            "\u001b[0;31m---------------------------------------------------------------------------\u001b[0m",
            "\u001b[0;31mValueError\u001b[0m                                Traceback (most recent call last)",
            "\u001b[0;32m<ipython-input-61-70f91683ec12>\u001b[0m in \u001b[0;36m<module>\u001b[0;34m()\u001b[0m\n\u001b[1;32m      2\u001b[0m \u001b[0mc\u001b[0m\u001b[0;34m=\u001b[0m\u001b[0mmat\u001b[0m\u001b[0;34m(\u001b[0m\u001b[0;34m'3 5 1'\u001b[0m\u001b[0;34m)\u001b[0m\u001b[0;34m\u001b[0m\u001b[0;34m\u001b[0m\u001b[0m\n\u001b[1;32m      3\u001b[0m \u001b[0mprint\u001b[0m\u001b[0;34m(\u001b[0m\u001b[0;34m'A\\n{},\\nc=\\n{},'\u001b[0m\u001b[0;34m.\u001b[0m\u001b[0mformat\u001b[0m\u001b[0;34m(\u001b[0m\u001b[0mA\u001b[0m\u001b[0;34m,\u001b[0m\u001b[0mc\u001b[0m\u001b[0;34m)\u001b[0m\u001b[0;34m)\u001b[0m\u001b[0;34m\u001b[0m\u001b[0;34m\u001b[0m\u001b[0m\n\u001b[0;32m----> 4\u001b[0;31m \u001b[0mprint\u001b[0m\u001b[0;34m(\u001b[0m\u001b[0;34m'A*c=\\n{}'\u001b[0m\u001b[0;34m.\u001b[0m\u001b[0mformat\u001b[0m\u001b[0;34m(\u001b[0m\u001b[0mA\u001b[0m\u001b[0;34m*\u001b[0m\u001b[0mc\u001b[0m\u001b[0;34m)\u001b[0m\u001b[0;34m)\u001b[0m\u001b[0;34m\u001b[0m\u001b[0;34m\u001b[0m\u001b[0m\n\u001b[0m",
            "\u001b[0;32m/usr/local/lib/python3.6/dist-packages/numpy/matrixlib/defmatrix.py\u001b[0m in \u001b[0;36m__mul__\u001b[0;34m(self, other)\u001b[0m\n\u001b[1;32m    218\u001b[0m         \u001b[0;32mif\u001b[0m \u001b[0misinstance\u001b[0m\u001b[0;34m(\u001b[0m\u001b[0mother\u001b[0m\u001b[0;34m,\u001b[0m \u001b[0;34m(\u001b[0m\u001b[0mN\u001b[0m\u001b[0;34m.\u001b[0m\u001b[0mndarray\u001b[0m\u001b[0;34m,\u001b[0m \u001b[0mlist\u001b[0m\u001b[0;34m,\u001b[0m \u001b[0mtuple\u001b[0m\u001b[0;34m)\u001b[0m\u001b[0;34m)\u001b[0m \u001b[0;34m:\u001b[0m\u001b[0;34m\u001b[0m\u001b[0;34m\u001b[0m\u001b[0m\n\u001b[1;32m    219\u001b[0m             \u001b[0;31m# This promotes 1-D vectors to row vectors\u001b[0m\u001b[0;34m\u001b[0m\u001b[0;34m\u001b[0m\u001b[0;34m\u001b[0m\u001b[0m\n\u001b[0;32m--> 220\u001b[0;31m             \u001b[0;32mreturn\u001b[0m \u001b[0mN\u001b[0m\u001b[0;34m.\u001b[0m\u001b[0mdot\u001b[0m\u001b[0;34m(\u001b[0m\u001b[0mself\u001b[0m\u001b[0;34m,\u001b[0m \u001b[0masmatrix\u001b[0m\u001b[0;34m(\u001b[0m\u001b[0mother\u001b[0m\u001b[0;34m)\u001b[0m\u001b[0;34m)\u001b[0m\u001b[0;34m\u001b[0m\u001b[0;34m\u001b[0m\u001b[0m\n\u001b[0m\u001b[1;32m    221\u001b[0m         \u001b[0;32mif\u001b[0m \u001b[0misscalar\u001b[0m\u001b[0;34m(\u001b[0m\u001b[0mother\u001b[0m\u001b[0;34m)\u001b[0m \u001b[0;32mor\u001b[0m \u001b[0;32mnot\u001b[0m \u001b[0mhasattr\u001b[0m\u001b[0;34m(\u001b[0m\u001b[0mother\u001b[0m\u001b[0;34m,\u001b[0m \u001b[0;34m'__rmul__'\u001b[0m\u001b[0;34m)\u001b[0m \u001b[0;34m:\u001b[0m\u001b[0;34m\u001b[0m\u001b[0;34m\u001b[0m\u001b[0m\n\u001b[1;32m    222\u001b[0m             \u001b[0;32mreturn\u001b[0m \u001b[0mN\u001b[0m\u001b[0;34m.\u001b[0m\u001b[0mdot\u001b[0m\u001b[0;34m(\u001b[0m\u001b[0mself\u001b[0m\u001b[0;34m,\u001b[0m \u001b[0mother\u001b[0m\u001b[0;34m)\u001b[0m\u001b[0;34m\u001b[0m\u001b[0;34m\u001b[0m\u001b[0m\n",
            "\u001b[0;32m<__array_function__ internals>\u001b[0m in \u001b[0;36mdot\u001b[0;34m(*args, **kwargs)\u001b[0m\n",
            "\u001b[0;31mValueError\u001b[0m: shapes (3,3) and (1,3) not aligned: 3 (dim 1) != 1 (dim 0)"
          ]
        }
      ]
    },
    {
      "cell_type": "markdown",
      "metadata": {
        "id": "QOXtIcv0Fy0e",
        "colab_type": "text"
      },
      "source": [
        "# 型別 type, 可自由轉換型別"
      ]
    },
    {
      "cell_type": "code",
      "metadata": {
        "id": "_rHfKXauFx9D",
        "colab_type": "code",
        "colab": {
          "base_uri": "https://localhost:8080/",
          "height": 34
        },
        "outputId": "b71012d5-292b-42e2-c781-3dd4c857d3dd"
      },
      "source": [
        "A=mat(A)\n",
        "type(A)"
      ],
      "execution_count": null,
      "outputs": [
        {
          "output_type": "execute_result",
          "data": {
            "text/plain": [
              "numpy.matrix"
            ]
          },
          "metadata": {
            "tags": []
          },
          "execution_count": 62
        }
      ]
    },
    {
      "cell_type": "markdown",
      "metadata": {
        "id": "vg3bT8eN7s1H",
        "colab_type": "text"
      },
      "source": [
        "# 判斷式 \n",
        "\n",
        "* 等於 ==\n",
        "* 不等於 != \n",
        "* 大於 >, 大於等於 >=\n",
        "* 小於 <, 小於等於 <=\n",
        "* 或 or\n",
        "* 且 and"
      ]
    },
    {
      "cell_type": "code",
      "metadata": {
        "id": "uzfDtVoQ70TU",
        "colab_type": "code",
        "colab": {
          "base_uri": "https://localhost:8080/",
          "height": 35
        },
        "outputId": "8b0166c1-361f-4381-f462-d0fcba7cceb8"
      },
      "source": [
        "2 == 5-3"
      ],
      "execution_count": null,
      "outputs": [
        {
          "output_type": "execute_result",
          "data": {
            "text/plain": [
              "True"
            ]
          },
          "metadata": {
            "tags": []
          },
          "execution_count": 103
        }
      ]
    },
    {
      "cell_type": "code",
      "metadata": {
        "id": "aL4ZiL_w73PX",
        "colab_type": "code",
        "colab": {
          "base_uri": "https://localhost:8080/",
          "height": 35
        },
        "outputId": "f5214ca8-1822-49c3-cf4f-fd9d3c551480"
      },
      "source": [
        "3 == 5-3"
      ],
      "execution_count": null,
      "outputs": [
        {
          "output_type": "execute_result",
          "data": {
            "text/plain": [
              "False"
            ]
          },
          "metadata": {
            "tags": []
          },
          "execution_count": 104
        }
      ]
    },
    {
      "cell_type": "code",
      "metadata": {
        "id": "RdU0zMBI76r_",
        "colab_type": "code",
        "colab": {
          "base_uri": "https://localhost:8080/",
          "height": 35
        },
        "outputId": "3e44a263-5a8e-4421-e0b7-5819cc1c57f0"
      },
      "source": [
        "3 != 5-3"
      ],
      "execution_count": null,
      "outputs": [
        {
          "output_type": "execute_result",
          "data": {
            "text/plain": [
              "True"
            ]
          },
          "metadata": {
            "tags": []
          },
          "execution_count": 105
        }
      ]
    },
    {
      "cell_type": "code",
      "metadata": {
        "id": "eicvnFd29ZbB",
        "colab_type": "code",
        "colab": {
          "base_uri": "https://localhost:8080/",
          "height": 35
        },
        "outputId": "c9dc0e5b-549b-4c36-ebb5-f8ce6581fb1c"
      },
      "source": [
        "2 != 2 or 1 < 2"
      ],
      "execution_count": null,
      "outputs": [
        {
          "output_type": "execute_result",
          "data": {
            "text/plain": [
              "True"
            ]
          },
          "metadata": {
            "tags": []
          },
          "execution_count": 113
        }
      ]
    },
    {
      "cell_type": "code",
      "metadata": {
        "id": "9_pDV9zE9dwg",
        "colab_type": "code",
        "colab": {
          "base_uri": "https://localhost:8080/",
          "height": 35
        },
        "outputId": "7a322b04-221c-4707-c262-76fed0388ff4"
      },
      "source": [
        "2 != 2 and 1 < 2"
      ],
      "execution_count": null,
      "outputs": [
        {
          "output_type": "execute_result",
          "data": {
            "text/plain": [
              "False"
            ]
          },
          "metadata": {
            "tags": []
          },
          "execution_count": 114
        }
      ]
    },
    {
      "cell_type": "markdown",
      "metadata": {
        "id": "TKne-7Muk5Bk",
        "colab_type": "text"
      },
      "source": [
        "# 範例 (求閏年)"
      ]
    },
    {
      "cell_type": "code",
      "metadata": {
        "id": "WpruaHV_WpG8",
        "colab_type": "code",
        "colab": {
          "base_uri": "https://localhost:8080/",
          "height": 52
        },
        "outputId": "16200e9f-fe44-48f9-d881-51bdc8d64596"
      },
      "source": [
        "def check_leap_year(year):\n",
        "    if (year % 400 == 0) or (year % 100 != 0 and year % 4 == 0):\n",
        "        print(\"閏年\")\n",
        "    else:\n",
        "        print(\"平年\")\n",
        "year=2021\n",
        "check_leap_year(year)\n",
        "year=2020\n",
        "check_leap_year(year)"
      ],
      "execution_count": null,
      "outputs": [
        {
          "output_type": "stream",
          "text": [
            "平年\n",
            "閏年\n"
          ],
          "name": "stdout"
        }
      ]
    },
    {
      "cell_type": "code",
      "metadata": {
        "id": "xDPZ9HshTv2N",
        "colab_type": "code",
        "colab": {
          "base_uri": "https://localhost:8080/",
          "height": 298
        },
        "outputId": "259e0798-abc6-4a01-f7ec-62119d022e40"
      },
      "source": [
        "for i in range(4):\n",
        "  print(f'i={i}')\n",
        "  print('i={}'.format(i)) #第一種是第二種的縮寫\n",
        "  print('i=%d'%i)\n",
        "  print(\"i=\",i) #在這邊，單雙引號其實一樣，這裡提供四種輸出的方法\n"
      ],
      "execution_count": null,
      "outputs": [
        {
          "output_type": "stream",
          "text": [
            "i=0\n",
            "i=0\n",
            "i=0\n",
            "i= 0\n",
            "i=1\n",
            "i=1\n",
            "i=1\n",
            "i= 1\n",
            "i=2\n",
            "i=2\n",
            "i=2\n",
            "i= 2\n",
            "i=3\n",
            "i=3\n",
            "i=3\n",
            "i= 3\n"
          ],
          "name": "stdout"
        }
      ]
    },
    {
      "cell_type": "markdown",
      "metadata": {
        "id": "dSF9yek5_N7v",
        "colab_type": "text"
      },
      "source": [
        "# While\n",
        "\n",
        "只要**條件**對，就一直執行**指令**\n",
        "\n",
        "\n",
        "while  (條件) :\n",
        "> 指令"
      ]
    },
    {
      "cell_type": "code",
      "metadata": {
        "id": "xJEODheU_Mjs",
        "colab_type": "code",
        "colab": {
          "base_uri": "https://localhost:8080/",
          "height": 108
        },
        "outputId": "86c985d9-39c9-4ce2-fede-e6c742f68500"
      },
      "source": [
        "i=0\n",
        "while i < 5 :\n",
        "  i += 1  # i = i+1\n",
        "  print(i)"
      ],
      "execution_count": null,
      "outputs": [
        {
          "output_type": "stream",
          "text": [
            "1\n",
            "2\n",
            "3\n",
            "4\n",
            "5\n"
          ],
          "name": "stdout"
        }
      ]
    },
    {
      "cell_type": "markdown",
      "metadata": {
        "id": "ebk73ThcADAe",
        "colab_type": "text"
      },
      "source": [
        "# pass"
      ]
    },
    {
      "cell_type": "code",
      "metadata": {
        "id": "BnR5Rr7uACeg",
        "colab_type": "code",
        "colab": {}
      },
      "source": [
        "x=30\n",
        "if x < 20:\n",
        "  print(x)\n",
        "else:\n",
        "  pass"
      ],
      "execution_count": null,
      "outputs": []
    },
    {
      "cell_type": "markdown",
      "metadata": {
        "id": "eoMg1JSiAYJt",
        "colab_type": "text"
      },
      "source": [
        "# break (中斷迴圈), continue（中斷下方指令但不中斷迴圈）"
      ]
    },
    {
      "cell_type": "code",
      "metadata": {
        "id": "6cBK57K7AXJk",
        "colab_type": "code",
        "colab": {
          "base_uri": "https://localhost:8080/",
          "height": 87
        },
        "outputId": "0c856adc-4075-40d4-9000-7825a4e684cc"
      },
      "source": [
        "for n in range(2,20):\n",
        "  if n%6 == 0:\n",
        "    break\n",
        "  print(n)"
      ],
      "execution_count": null,
      "outputs": [
        {
          "output_type": "stream",
          "text": [
            "2\n",
            "3\n",
            "4\n",
            "5\n"
          ],
          "name": "stdout"
        }
      ]
    },
    {
      "cell_type": "code",
      "metadata": {
        "id": "7zS6qrL9BIUV",
        "colab_type": "code",
        "colab": {
          "base_uri": "https://localhost:8080/",
          "height": 108
        },
        "outputId": "515899ad-e6f4-4e4f-8e79-8f42e0907ecc"
      },
      "source": [
        "for n in range(10):\n",
        "  if n%2 == 1:\n",
        "    continue\n",
        "    print(n)\n",
        "  else:\n",
        "    print(n)"
      ],
      "execution_count": null,
      "outputs": [
        {
          "output_type": "stream",
          "text": [
            "0\n",
            "2\n",
            "4\n",
            "6\n",
            "8\n"
          ],
          "name": "stdout"
        }
      ]
    },
    {
      "cell_type": "markdown",
      "metadata": {
        "id": "fu8maJ_dCFP3",
        "colab_type": "text"
      },
      "source": [
        "# 範例: Fibonacci 數列"
      ]
    },
    {
      "cell_type": "code",
      "metadata": {
        "id": "1Iwowz6wCOwH",
        "colab_type": "code",
        "colab": {
          "base_uri": "https://localhost:8080/",
          "height": 34
        },
        "outputId": "037f2fc2-2b4f-447f-a9bc-b4540deb027e"
      },
      "source": [
        "n=15\n",
        "F=[0,1]\n",
        "for i in range(2,n):\n",
        "  #print(F)\n",
        "  #print(sum(F[-2:]))\n",
        "  F.append(sum(F[-2:]))\n",
        "F"
      ],
      "execution_count": null,
      "outputs": [
        {
          "output_type": "execute_result",
          "data": {
            "text/plain": [
              "[0, 1, 1, 2, 3, 5, 8, 13, 21, 34, 55, 89, 144, 233, 377]"
            ]
          },
          "metadata": {
            "tags": []
          },
          "execution_count": 73
        }
      ]
    },
    {
      "cell_type": "markdown",
      "metadata": {
        "id": "ghZCRiebIT0C",
        "colab_type": "text"
      },
      "source": [
        "# 畫圖\n",
        "[matplotlib 說明](https://colab.research.google.com/notebooks/charts.ipynb)"
      ]
    },
    {
      "cell_type": "code",
      "metadata": {
        "id": "u2ElhLPHIcff",
        "colab_type": "code",
        "colab": {
          "base_uri": "https://localhost:8080/",
          "height": 265
        },
        "outputId": "3104cb3b-3442-4a33-d17a-198a79cd0cbe"
      },
      "source": [
        "import matplotlib.pyplot as plt\n",
        "from numpy import *\n",
        "x=linspace(-2*pi,2*pi,300)\n",
        "plt.plot(x, sin(x))\n",
        "plt.plot(x, cos(x))\n",
        "plt.show() #只放一個，最好在結尾"
      ],
      "execution_count": null,
      "outputs": [
        {
          "output_type": "display_data",
          "data": {
            "image/png": "[encoded data removed]",
            "text/plain": [
              "<Figure size 432x288 with 1 Axes>"
            ]
          },
          "metadata": {
            "tags": [],
            "needs_background": "light"
          }
        }
      ]
    },
    {
      "cell_type": "code",
      "metadata": {
        "id": "fQLIG1ACLxZF",
        "colab_type": "code",
        "colab": {
          "base_uri": "https://localhost:8080/",
          "height": 265
        },
        "outputId": "7436dde9-4455-40a8-8635-2a4db8ae8878"
      },
      "source": [
        "import matplotlib.pyplot as plt\n",
        "from numpy import *\n",
        "x=linspace(-2*pi,2*pi,300)\n",
        "plt.plot(x, sin(x),'r-')\n",
        "plt.plot(x, cos(x),'b--')\n",
        "plt.show()"
      ],
      "execution_count": null,
      "outputs": [
        {
          "output_type": "display_data",
          "data": {
            "image/png": "[encoded data removed]",
            "text/plain": [
              "<Figure size 432x288 with 1 Axes>"
            ]
          },
          "metadata": {
            "tags": [],
            "needs_background": "light"
          }
        }
      ]
    },
    {
      "cell_type": "code",
      "metadata": {
        "id": "_tU-MxKCI5Kb",
        "colab_type": "code",
        "colab": {
          "base_uri": "https://localhost:8080/",
          "height": 265
        },
        "outputId": "f7cd9838-d369-4e76-8594-ca21deb085f1"
      },
      "source": [
        "plt.figure()  # create a plot figure\n",
        "\n",
        "# create the first of two panels and set current axis\n",
        "plt.subplot(2, 1, 1) # (rows, columns, panel number)\n",
        "plt.plot(x, sin(x))\n",
        "\n",
        "# create the second panel and set current axis\n",
        "plt.subplot(2, 1, 2)\n",
        "plt.plot(x, cos(x));"
      ],
      "execution_count": null,
      "outputs": [
        {
          "output_type": "display_data",
          "data": {
            "image/png": "[encoded data removed]",
            "text/plain": [
              "<Figure size 432x288 with 2 Axes>"
            ]
          },
          "metadata": {
            "tags": [],
            "needs_background": "light"
          }
        }
      ]
    },
    {
      "cell_type": "markdown",
      "metadata": {
        "id": "qB9BdiIptSKq",
        "colab_type": "text"
      },
      "source": [
        "# 範例: 畫 $f(x)=x^2$ 的圖, x from -20 to 20"
      ]
    },
    {
      "cell_type": "code",
      "metadata": {
        "id": "ZX1mV3nXtOIU",
        "colab_type": "code",
        "colab": {
          "base_uri": "https://localhost:8080/",
          "height": 265
        },
        "outputId": "529ab5cd-0a52-4a30-8675-47f2324019c3"
      },
      "source": [
        "import matplotlib.pyplot as plt\n",
        "from numpy import *\n",
        "x=linspace(-20,20,300)\n",
        "def func(x):\n",
        "  return x**2\n",
        "plt.plot(x, func(x))\n",
        "plt.show()"
      ],
      "execution_count": null,
      "outputs": [
        {
          "output_type": "display_data",
          "data": {
            "image/png": "[encoded data removed]",
            "text/plain": [
              "<Figure size 432x288 with 1 Axes>"
            ]
          },
          "metadata": {
            "tags": [],
            "needs_background": "light"
          }
        }
      ]
    },
    {
      "cell_type": "markdown",
      "metadata": {
        "id": "UxIAMJR9MtR9",
        "colab_type": "text"
      },
      "source": [
        "# 習題：(繳交期限:2020-09-16 23:45)(交ipynb檔到單登)\n",
        "\n",
        "檔名為: **學號姓名hw1.ipynb**\n",
        "\n",
        "內容請照題號順序，並包含程式碼以及答案\n"
      ]
    },
    {
      "cell_type": "markdown",
      "metadata": {
        "id": "m3w5l29X2LXZ",
        "colab_type": "text"
      },
      "source": [
        "一. 建造函數 (請寫出完整函數，並執行範例數字)(可參考閏年的範例)\n",
        "\n",
        "1. 今年1月1號是週三，請問今年的第x天是週幾？  def date(x)\n",
        ">求 date(200)=?\n",
        "2. 請問今年的m月d號是今年的第幾天？ （1月1號是第一天）(注意今年二月有29天) def nthday(m,n)\n",
        ">求 nthday(5,7)=?\n",
        "3. 請問今年的m月d號是週幾？  def whatdate(m,n)\n",
        ">求 whatdate(9,8)=?\n",
        "\n",
        "二. Fibinacci數列的前20項和為？\n",
        "\n",
        "三. 製作以下幾種矩陣 (可參照 hstack, bmat, reshape, zeros, eye, ones ...等等)\n",
        "\n",
        "1. $A=\\begin{bmatrix}1&2&3&4&5\\\\\n",
        "6&7&8&9&10\\\\\n",
        "11&12&13&14&15\\\\\n",
        "16&17&18&19&20\\\\\n",
        "21&22&23&24&25\\end{bmatrix}$\n",
        "2. $A^T$\n",
        "3. $B=\\begin{bmatrix}0&0&3&4&5\\\\\n",
        "0&0&6&7&8\\\\\n",
        "1&2&1&1&1\\\\\n",
        "3&4&1&1&1\\\\\n",
        "5&6&1&1&1\\end{bmatrix}$\n",
        "\n",
        "四. 畫出$f(x)=x^3+2x+1$的圖, x from -5 to 20"
      ]
    }
  ]
}