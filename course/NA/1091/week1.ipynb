{
  "nbformat": 4,
  "nbformat_minor": 0,
  "metadata": {
    "colab": {
      "name": "20200908.ipynb",
      "provenance": []
    },
    "kernelspec": {
      "name": "python3",
      "display_name": "Python 3"
    }
  },
  "cells": [
    {
      "cell_type": "markdown",
      "metadata": {
        "id": "5ydCMpI_16TW",
        "colab_type": "text"
      },
      "source": [
        "#如何使用colab?\n",
        "1. 註冊google帳號\n",
        "2. 進入 https://colab.research.google.com/\n",
        "3. 選取右下角的 [new notebook]"
      ]
    },
    {
      "cell_type": "markdown",
      "metadata": {
        "id": "evnwUyzq2aRZ",
        "colab_type": "text"
      },
      "source": [
        "## colab內含兩種物件\n",
        "1. text 部分: 你可以當正常文件打,像是word或是text。或者是你可以使用所謂的markdown語法,甚至是latex語法\n",
        "2. python code部分: 你可以輸入python code，還可以執行運算結果。p.s.注意每一塊code的運算順序\n",
        "\n",
        "### 資源\n",
        "1. [colab使用說明](https://colab.research.google.com/notebooks/welcome.ipynb?hl=zh-TW)\n",
        "2. [markdown語法](https://markdown.tw/)"
      ]
    },
    {
      "cell_type": "markdown",
      "metadata": {
        "id": "lAZ3Ing44EYN",
        "colab_type": "text"
      },
      "source": [
        "## 繳交作業說明\n",
        "+ 選取右上的 [檔案]，然後是 [下載 .ipynb]，接下來將檔案上傳到 [單登](https://sso.nknu.edu.tw/)"
      ]
    },
    {
      "cell_type": "markdown",
      "metadata": {
        "id": "z1kk9tHdkNC2",
        "colab_type": "text"
      },
      "source": [
        "--------------------------------------\n",
        "#PYTHON範例\n",
        "\n",
        "1. 看看自己的python是用哪個版本的"
      ]
    },
    {
      "cell_type": "code",
      "metadata": {
        "id": "bcZQNY3_svb4",
        "colab_type": "code",
        "colab": {
          "base_uri": "https://localhost:8080/",
          "height": 34
        },
        "outputId": "52e9d494-a0bb-424a-8783-5db8cf0b2434"
      },
      "source": [
        "!python --version"
      ],
      "execution_count": null,
      "outputs": [
        {
          "output_type": "stream",
          "text": [
            "Python 3.6.9\n"
          ],
          "name": "stdout"
        }
      ]
    },
    {
      "cell_type": "markdown",
      "metadata": {
        "id": "5BJv5iZEiHWT",
        "colab_type": "text"
      },
      "source": [
        "最簡單的例子!\n",
        "輸出到螢幕"
      ]
    },
    {
      "cell_type": "code",
      "metadata": {
        "id": "cKB7N7socxSp",
        "colab_type": "code",
        "colab": {
          "base_uri": "https://localhost:8080/",
          "height": 34
        },
        "outputId": "c01b75e5-066c-4019-c44d-76300d93ab1b"
      },
      "source": [
        "print(\"hello world\")"
      ],
      "execution_count": null,
      "outputs": [
        {
          "output_type": "stream",
          "text": [
            "hello world\n"
          ],
          "name": "stdout"
        }
      ]
    },
    {
      "cell_type": "code",
      "metadata": {
        "id": "z6vTjdAbrK3q",
        "colab_type": "code",
        "colab": {
          "base_uri": "https://localhost:8080/",
          "height": 87
        },
        "outputId": "2fb844f1-7459-4d47-8205-b7494dd62f32"
      },
      "source": [
        "str1=\"Hello\" + \"World\"\n",
        "str2=\"Python\"\n",
        "print(str1)\n",
        "print(\"str1\")\n",
        "print(str1+str2)\n",
        "print(str1*3+str2)"
      ],
      "execution_count": null,
      "outputs": [
        {
          "output_type": "stream",
          "text": [
            "HelloWorld\n",
            "str1\n",
            "HelloWorldPython\n",
            "HelloWorldHelloWorldHelloWorldPython\n"
          ],
          "name": "stdout"
        }
      ]
    },
    {
      "cell_type": "markdown",
      "metadata": {
        "id": "FRSMCC45n0-z",
        "colab_type": "text"
      },
      "source": [
        "數學的基本運算符號如下，記得運算規則是 [先乘除後加減]\n",
        "\n",
        " 運算 |  功能 | 例子\n",
        "------|------|---------\n",
        " + | 加 |  2+3=5\n",
        " - | 減 | 5-8 =-3\n",
        " * | 乘 | 3*5=15\n",
        " / | 除 | 7/2=3.5\n",
        "  // | 除法後取不大於結果的最大整數| 3//2=1 \n",
        " % | 模數(mode)(取餘數) | 11%3=2\n",
        " **| 指數（次方） | 3**4=81\n",
        "\n"
      ]
    },
    {
      "cell_type": "code",
      "metadata": {
        "id": "qUn3HSI410vV",
        "colab_type": "code",
        "colab": {
          "base_uri": "https://localhost:8080/",
          "height": 34
        },
        "outputId": "095aff17-da44-418e-901c-1b76820ac14d"
      },
      "source": [
        "2+3"
      ],
      "execution_count": null,
      "outputs": [
        {
          "output_type": "execute_result",
          "data": {
            "text/plain": [
              "5"
            ]
          },
          "metadata": {
            "tags": []
          },
          "execution_count": 8
        }
      ]
    },
    {
      "cell_type": "code",
      "metadata": {
        "id": "opKDOLOa4-jM",
        "colab_type": "code",
        "colab": {
          "base_uri": "https://localhost:8080/",
          "height": 34
        },
        "outputId": "1aae9711-6a7b-4f83-df20-1dab20e457bb"
      },
      "source": [
        "9%6\n",
        "2+3"
      ],
      "execution_count": null,
      "outputs": [
        {
          "output_type": "execute_result",
          "data": {
            "text/plain": [
              "5"
            ]
          },
          "metadata": {
            "tags": []
          },
          "execution_count": 9
        }
      ]
    },
    {
      "cell_type": "code",
      "metadata": {
        "id": "vcZjhYZB5Ddb",
        "colab_type": "code",
        "colab": {
          "base_uri": "https://localhost:8080/",
          "height": 52
        },
        "outputId": "058c05c6-8ead-4408-a23d-dba7b5eabbd1"
      },
      "source": [
        "print(9%6)\n",
        "print(2+3)"
      ],
      "execution_count": null,
      "outputs": [
        {
          "output_type": "stream",
          "text": [
            "3\n",
            "5\n"
          ],
          "name": "stdout"
        }
      ]
    },
    {
      "cell_type": "markdown",
      "metadata": {
        "id": "ARQM0VAB5raV",
        "colab_type": "text"
      },
      "source": [
        "# IF\n",
        "\n",
        "**注意排版**"
      ]
    },
    {
      "cell_type": "markdown",
      "metadata": {
        "id": "mDpkQJN7uU0B",
        "colab_type": "text"
      },
      "source": [
        "### 1. if\n",
        "\n",
        "如果 **條件** 對，則執行 **指令**\n",
        "\n",
        "if (條件):\n",
        ">指令 \n",
        "\n"
      ]
    },
    {
      "cell_type": "code",
      "metadata": {
        "id": "T_5y0cwYuoS7",
        "colab_type": "code",
        "colab": {}
      },
      "source": [
        "x=10\n",
        "if (x>20):\n",
        "  print(\"x >20\")"
      ],
      "execution_count": null,
      "outputs": []
    },
    {
      "cell_type": "markdown",
      "metadata": {
        "id": "bw2yJiDX3EeG",
        "colab_type": "text"
      },
      "source": [
        "### 2. else\n",
        "\n",
        "如果 **條件1** 對，則執行 **指令1**。不然就執行 **指令2**\n",
        "\n",
        "if (條件):\n",
        ">指令1\n",
        "\n",
        "else:\n",
        ">指令2"
      ]
    },
    {
      "cell_type": "code",
      "metadata": {
        "id": "DyqPGxxM4IPv",
        "colab_type": "code",
        "colab": {
          "base_uri": "https://localhost:8080/",
          "height": 34
        },
        "outputId": "1f11c16e-bbc2-440a-b6e6-91a33e52f82a"
      },
      "source": [
        "x=35;\n",
        "if (x < 10):\n",
        "  print(\"x was < 10\")\n",
        "else:\n",
        "  print(\"x was >= 10\")"
      ],
      "execution_count": null,
      "outputs": [
        {
          "output_type": "stream",
          "text": [
            "x was >= 10\n"
          ],
          "name": "stdout"
        }
      ]
    },
    {
      "cell_type": "markdown",
      "metadata": {
        "colab_type": "text",
        "id": "EHc9Y6KP3bhW"
      },
      "source": [
        "### 3. elif\n",
        "\n",
        "如果 **條件1** 對，則執行 **指令1**。再來，如果**條件2**對，就執行 **指令2**。不然，就執行 **指令3**\n",
        "\n",
        "if (條件1):\n",
        ">指令1\n",
        "\n",
        "elif (條件2):\n",
        ">指令2\n",
        "\n",
        "else:\n",
        ">指令3"
      ]
    },
    {
      "cell_type": "code",
      "metadata": {
        "id": "7QX3RQNGgaGB",
        "colab_type": "code",
        "colab": {
          "base_uri": "https://localhost:8080/",
          "height": 34
        },
        "outputId": "be7e1ce7-6eb1-48d9-acbb-b33780d9e1f4"
      },
      "source": [
        "x=35;\n",
        "if (x < 10):\n",
        "  print(\"Hello World, x was < 10\")\n",
        "elif (x < 20):\n",
        "  print(\"Hello World, x was >= 10 but < 20\")\n",
        "elif (x < 30):\n",
        "  print(\"Hello World, x was >= 20 but < 30\")\n",
        "else:\n",
        "  print(\"Hello World, x was >= 30\")"
      ],
      "execution_count": null,
      "outputs": [
        {
          "output_type": "stream",
          "text": [
            "Hello World, x was >= 30\n"
          ],
          "name": "stdout"
        }
      ]
    },
    {
      "cell_type": "markdown",
      "metadata": {
        "id": "WtILIrnawH0Y",
        "colab_type": "text"
      },
      "source": [
        "# 字串"
      ]
    },
    {
      "cell_type": "code",
      "metadata": {
        "id": "i_7uNm95wChf",
        "colab_type": "code",
        "colab": {
          "base_uri": "https://localhost:8080/",
          "height": 34
        },
        "outputId": "53dc8b18-7479-446c-9992-33d7cfe38dec"
      },
      "source": [
        "x=[0,1]\n",
        "x"
      ],
      "execution_count": null,
      "outputs": [
        {
          "output_type": "execute_result",
          "data": {
            "text/plain": [
              "[0, 1]"
            ]
          },
          "metadata": {
            "tags": []
          },
          "execution_count": 21
        }
      ]
    },
    {
      "cell_type": "markdown",
      "metadata": {
        "id": "A1tngx4Nv3oG",
        "colab_type": "text"
      },
      "source": [
        "# For 迴圈\n",
        "\n",
        "**一樣要注意排版**"
      ]
    },
    {
      "cell_type": "code",
      "metadata": {
        "id": "s25B3EHsv20j",
        "colab_type": "code",
        "colab": {
          "base_uri": "https://localhost:8080/",
          "height": 122
        },
        "outputId": "a659268d-fb44-46db-91c6-66da744c9289"
      },
      "source": [
        "print(\"Iterate over an actual list.\")\n",
        "for i in [0,1,2,3,4]:\n",
        "  print(i)"
      ],
      "execution_count": null,
      "outputs": [
        {
          "output_type": "stream",
          "text": [
            "Iterate over an actual list.\n",
            "0\n",
            "1\n",
            "2\n",
            "3\n",
            "4\n"
          ],
          "name": "stdout"
        }
      ]
    },
    {
      "cell_type": "code",
      "metadata": {
        "colab_type": "code",
        "id": "PVUHLNlZwXy2",
        "colab": {
          "base_uri": "https://localhost:8080/",
          "height": 140
        },
        "outputId": "90c58d21-3f75-4d74-9bbe-e4cbe7f4f9da"
      },
      "source": [
        "print(\"Iterate over an actual list.\")\n",
        "for i in [0,1,2,3,4]:\n",
        "  print(i)\n",
        "print(i)"
      ],
      "execution_count": null,
      "outputs": [
        {
          "output_type": "stream",
          "text": [
            "Iterate over an actual list.\n",
            "0\n",
            "1\n",
            "2\n",
            "3\n",
            "4\n",
            "4\n"
          ],
          "name": "stdout"
        }
      ]
    },
    {
      "cell_type": "code",
      "metadata": {
        "colab_type": "code",
        "id": "bB_J_NRvw6uB",
        "colab": {
          "base_uri": "https://localhost:8080/",
          "height": 210
        },
        "outputId": "3b49e13d-24e3-42ff-fa86-d44e7f2bab16"
      },
      "source": [
        "print(\"Iterate over an actual list.\")\n",
        "for i in [0,1,2,3,4]:\n",
        "  print(i)\n",
        "  print(i)"
      ],
      "execution_count": null,
      "outputs": [
        {
          "output_type": "stream",
          "text": [
            "Iterate over an actual list.\n",
            "0\n",
            "0\n",
            "1\n",
            "1\n",
            "2\n",
            "2\n",
            "3\n",
            "3\n",
            "4\n",
            "4\n"
          ],
          "name": "stdout"
        }
      ]
    },
    {
      "cell_type": "code",
      "metadata": {
        "id": "wYHHtJvBwzSx",
        "colab_type": "code",
        "colab": {
          "base_uri": "https://localhost:8080/",
          "height": 122
        },
        "outputId": "90de7da7-6a0e-410c-ac55-6a824587124b"
      },
      "source": [
        "print(\"Sum 0 to 4\")\n",
        "k=0\n",
        "for i in [0,1,2,3,4]:\n",
        "  k=k+i\n",
        "  print(k)"
      ],
      "execution_count": null,
      "outputs": [
        {
          "output_type": "stream",
          "text": [
            "Sumation\n",
            "0\n",
            "1\n",
            "3\n",
            "6\n",
            "10\n"
          ],
          "name": "stdout"
        }
      ]
    },
    {
      "cell_type": "code",
      "metadata": {
        "id": "XWKIbe00x_GG",
        "colab_type": "code",
        "colab": {
          "base_uri": "https://localhost:8080/",
          "height": 52
        },
        "outputId": "03be2266-cfe3-4e88-b1e7-1975c2a35dc9"
      },
      "source": [
        "print(\"Sum 0 to 4\")\n",
        "k=0\n",
        "for i in [0,1,2,3,4]:\n",
        "  k=k+i\n",
        "print(k)"
      ],
      "execution_count": null,
      "outputs": [
        {
          "output_type": "stream",
          "text": [
            "Sumation\n",
            "10\n"
          ],
          "name": "stdout"
        }
      ]
    },
    {
      "cell_type": "markdown",
      "metadata": {
        "id": "uxRAOqtH4qZO",
        "colab_type": "text"
      },
      "source": [
        "### range 的用法\n",
        "\n",
        "1. range(n+1): [0, 1, 2, ... , n]\n",
        "2. range(a,b,k) : [a, a+k, a+2k, a+3k, ... (直到**不超過**b的最大數)]"
      ]
    },
    {
      "cell_type": "code",
      "metadata": {
        "id": "K-xs89sQyGjL",
        "colab_type": "code",
        "colab": {
          "base_uri": "https://localhost:8080/",
          "height": 87
        },
        "outputId": "462cce91-9d39-4a0f-abfe-84cb1d459388"
      },
      "source": [
        "for i in range(4):\n",
        "  print(i)"
      ],
      "execution_count": null,
      "outputs": [
        {
          "output_type": "stream",
          "text": [
            "0\n",
            "1\n",
            "2\n",
            "3\n"
          ],
          "name": "stdout"
        }
      ]
    },
    {
      "cell_type": "code",
      "metadata": {
        "id": "Wsu5MAkQyUSp",
        "colab_type": "code",
        "colab": {
          "base_uri": "https://localhost:8080/",
          "height": 34
        },
        "outputId": "4bc323cb-9e51-426d-d59e-7c8a7b4ace87"
      },
      "source": [
        "k=0\n",
        "for i in range(11):\n",
        "  k=k+i\n",
        "print(k)"
      ],
      "execution_count": null,
      "outputs": [
        {
          "output_type": "stream",
          "text": [
            "55\n"
          ],
          "name": "stdout"
        }
      ]
    },
    {
      "cell_type": "code",
      "metadata": {
        "id": "DZQaeGwVygMB",
        "colab_type": "code",
        "colab": {
          "base_uri": "https://localhost:8080/",
          "height": 84
        },
        "outputId": "af23c8e7-3c49-45db-dda4-6af4881b5ebc"
      },
      "source": [
        "for i in range(1,9,2):\n",
        "  print(i)"
      ],
      "execution_count": null,
      "outputs": [
        {
          "output_type": "stream",
          "text": [
            "1\n",
            "3\n",
            "5\n",
            "7\n"
          ],
          "name": "stdout"
        }
      ]
    },
    {
      "cell_type": "code",
      "metadata": {
        "id": "YSm3lDJRynfP",
        "colab_type": "code",
        "colab": {
          "base_uri": "https://localhost:8080/",
          "height": 105
        },
        "outputId": "c98be6ec-10b0-4026-fdc6-60d31e391fd8"
      },
      "source": [
        "for i in range(1,15,3):\n",
        "  print(i)"
      ],
      "execution_count": null,
      "outputs": [
        {
          "output_type": "stream",
          "text": [
            "1\n",
            "4\n",
            "7\n",
            "10\n",
            "13\n"
          ],
          "name": "stdout"
        }
      ]
    },
    {
      "cell_type": "markdown",
      "metadata": {
        "id": "HChz59TXy3ZM",
        "colab_type": "text"
      },
      "source": [
        "# 定義函數\n",
        "\n",
        "**還是要記得排版!!** python的排版很重要"
      ]
    },
    {
      "cell_type": "code",
      "metadata": {
        "id": "huE4ko0SyzpQ",
        "colab_type": "code",
        "colab": {}
      },
      "source": [
        "def HelloWorldXY(x, y):\n",
        "  if (x < 10):\n",
        "    print(\"Hello World, x was < 10\")\n",
        "  elif (x < 20):\n",
        "    print(\"Hello World, x was >= 10 but < 20\")\n",
        "  else:\n",
        "    print(\"Hello World, x was >= 20\")\n",
        "  return x + y"
      ],
      "execution_count": null,
      "outputs": []
    },
    {
      "cell_type": "code",
      "metadata": {
        "id": "ctuirhUlzJ4W",
        "colab_type": "code",
        "colab": {
          "base_uri": "https://localhost:8080/",
          "height": 52
        },
        "outputId": "b8770f7e-5dde-46e8-bd2f-da6af0eb96a6"
      },
      "source": [
        "print(HelloWorldXY(1,2))"
      ],
      "execution_count": null,
      "outputs": [
        {
          "output_type": "stream",
          "text": [
            "Hello World, x was < 10\n",
            "3\n"
          ],
          "name": "stdout"
        }
      ]
    },
    {
      "cell_type": "code",
      "metadata": {
        "id": "7R1DjItQzQ1Q",
        "colab_type": "code",
        "colab": {
          "base_uri": "https://localhost:8080/",
          "height": 34
        },
        "outputId": "65b93126-6308-4268-bb65-db2fa788ad00"
      },
      "source": [
        "def func1(x):\n",
        "  return x**2+4\n",
        "func(4)"
      ],
      "execution_count": null,
      "outputs": [
        {
          "output_type": "execute_result",
          "data": {
            "text/plain": [
              "19"
            ]
          },
          "metadata": {
            "tags": []
          },
          "execution_count": 46
        }
      ]
    },
    {
      "cell_type": "code",
      "metadata": {
        "id": "HOWOEOW3zYDY",
        "colab_type": "code",
        "colab": {
          "base_uri": "https://localhost:8080/",
          "height": 34
        },
        "outputId": "d06126bd-4391-4e27-af73-e71b08f72293"
      },
      "source": [
        "func1(5)"
      ],
      "execution_count": null,
      "outputs": [
        {
          "output_type": "execute_result",
          "data": {
            "text/plain": [
              "29"
            ]
          },
          "metadata": {
            "tags": []
          },
          "execution_count": 47
        }
      ]
    }
  ]
}
